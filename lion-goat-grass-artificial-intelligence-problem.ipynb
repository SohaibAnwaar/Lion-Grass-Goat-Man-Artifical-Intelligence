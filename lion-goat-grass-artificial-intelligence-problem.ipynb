{
 "cells": [
  {
   "cell_type": "markdown",
   "metadata": {
    "_uuid": "33134e379f8c24ed85012e5266cd2deb8c74bdb6"
   },
   "source": [
    "Problem:\n",
    "    A Man wants to bring a Lion, a goat, and Grass across the river. The boat is tiny and can only carry one passenger at a time. If he leaves the Lion and the goat alone together, the Lion will eat the goat. If he leaves the goat and the Grass alone together, the goat will eat the Grass.\n",
    "How can he bring all three safely across the river?\n",
    "![](https://mark-borg.github.io/img/posts/farmer-wolf-goat-cabbage.png)\n",
    "\n"
   ]
  },
  {
   "cell_type": "code",
   "execution_count": 1,
   "metadata": {
    "_cell_guid": "b1076dfc-b9ad-4769-8c92-a6c4dae69d19",
    "_uuid": "8f2839f25d086af736a60e9eeb907d3b93b6e0e5"
   },
   "outputs": [
    {
     "name": "stdout",
     "output_type": "stream",
     "text": [
      "Collecting anytree\r\n",
      "  Downloading https://files.pythonhosted.org/packages/78/bf/9300ecef72d105b3a76de6930916458d6bb8c7e787f5efb1c510bf898873/anytree-2.6.0.tar.gz\r\n",
      "Requirement already satisfied: six>=1.9.0 in /opt/conda/lib/python3.6/site-packages (from anytree) (1.12.0)\r\n",
      "Building wheels for collected packages: anytree\r\n",
      "  Building wheel for anytree (setup.py) ... \u001b[?25l-\b \bdone\r\n",
      "\u001b[?25h  Stored in directory: /tmp/.cache/pip/wheels/6b/e2/88/ffb3e712f4e961427fd2dab733bf86dcd725d35b659fc18072\r\n",
      "Successfully built anytree\r\n",
      "Installing collected packages: anytree\r\n",
      "Successfully installed anytree-2.6.0\r\n",
      "[]\n"
     ]
    }
   ],
   "source": [
    "# This Python 3 environment comes with many helpful analytics libraries installed\n",
    "# It is defined by the kaggle/python docker image: https://github.com/kaggle/docker-python\n",
    "# For example, here's several helpful packages to load in \n",
    "!pip install anytree\n",
    "import numpy as np # linear algebra\n",
    "import pandas as pd # data processing, CSV file I/O (e.g. pd.read_csv)\n",
    "from anytree import Node, RenderTree,search\n",
    "from queue import *\n",
    "# Input data files are available in the \"../input/\" directory.\n",
    "# For example, running this (by clicking run or pressing Shift+Enter) will list the files in the input directory\n",
    "\n",
    "import os\n",
    "print(os.listdir(\"../input\"))\n",
    "\n",
    "# Any results you write to the current directory are saved as output."
   ]
  },
  {
   "cell_type": "markdown",
   "metadata": {
    "_uuid": "7bc0923af40b66ddcaee1e267fb79269696c2441"
   },
   "source": [
    "**Creating Tree**"
   ]
  },
  {
   "cell_type": "markdown",
   "metadata": {
    "_uuid": "90bb05f333da831a6a987001f457030b7debf56a"
   },
   "source": [
    "**Moving Farmer, Lion , Goat , Grass **"
   ]
  },
  {
   "cell_type": "code",
   "execution_count": 2,
   "metadata": {
    "_uuid": "ec068501e12cd516e5de6de58ca4c7a91e5314b2"
   },
   "outputs": [],
   "source": [
    "def moveMan(parent_node):\n",
    "    child=dict(parent_node.name)\n",
    "    #east\n",
    "    if child[\"man\"]==False:\n",
    "        child[\"man\"]=True\n",
    "        return child\n",
    "        \n",
    "    #west\n",
    "    if child[\"man\"]==True:\n",
    "        child[\"man\"]=False\n",
    "        return child\n",
    "    else : return None\n",
    "def moveLion(parent_node):\n",
    "    child=dict(parent_node.name)\n",
    "    #east\n",
    "    if child[\"man\"]==False and child[\"lion\"]==False:\n",
    "        child[\"man\"]=True\n",
    "        child[\"lion\"]=True\n",
    "        return child\n",
    "        \n",
    "    #west\n",
    "    if child[\"man\"]==True and child[\"lion\"]==True:\n",
    "        child[\"man\"]=False\n",
    "        child[\"lion\"]=False\n",
    "        return child\n",
    "    else : return None\n",
    "    \n",
    "    \n",
    "def moveGoat(parent_node):\n",
    "    child=dict(parent_node.name)\n",
    "    #east\n",
    "    if child[\"man\"]==False and child[\"goat\"]==False:\n",
    "        child[\"man\"]=True\n",
    "        child[\"goat\"]=True\n",
    "        \n",
    "        \n",
    "        return child\n",
    "        \n",
    "    #west\n",
    "    if child[\"man\"]==True and child[\"goat\"]==True:\n",
    "        child[\"man\"]=False\n",
    "        child[\"goat\"]=False\n",
    "        return child\n",
    "    else : return None\n",
    "    \n",
    "def moveGrass(parent_node):\n",
    "    child=dict(parent_node.name)\n",
    "    #east\n",
    "    if child[\"man\"]==False and child[\"grass\"]==False:\n",
    "        child[\"man\"]=True\n",
    "        child[\"grass\"]=True\n",
    "        \n",
    "        \n",
    "        return child\n",
    "        \n",
    "    #west\n",
    "    if child[\"man\"]==True and child[\"grass\"]==True:\n",
    "        child[\"man\"]=False\n",
    "        child[\"grass\"]=False\n",
    "        return child\n",
    "    else : return None"
   ]
  },
  {
   "cell_type": "markdown",
   "metadata": {
    "_uuid": "8e8511ccc29b748ec80f95f8099fd767ed5654b7"
   },
   "source": [
    "**Constraints which Step is false**"
   ]
  },
  {
   "cell_type": "code",
   "execution_count": 3,
   "metadata": {
    "_uuid": "76fd6a001b5b9dd41e9b6436dddc0fb014abe7b5"
   },
   "outputs": [],
   "source": [
    "def constraints(node):\n",
    "    if(node[\"grass\"]==True and node[\"goat\"]==True and node[\"man\"]==False):\n",
    "        node[\"state\"]=False\n",
    "    if(node[\"grass\"]==False and node[\"goat\"]==False and  node[\"man\"]==True):\n",
    "        node[\"state\"]=False\n",
    "    if(node[\"lion\"]==True and node[\"goat\"]==True and  node[\"man\"]==False):\n",
    "        node[\"state\"]=False\n",
    "    if(node[\"lion\"]==False and node[\"goat\"]==False and node[\"man\"]==True):\n",
    "        node[\"state\"]=False\n",
    "    if(node[\"lion\"]==True and node[\"goat\"]==True and node[\"man\"]==True and node[\"grass\"]==True):\n",
    "        node[\"state\"]=\"Goal\"\n",
    "    return node"
   ]
  },
  {
   "cell_type": "markdown",
   "metadata": {
    "_uuid": "3cf6011581ecbdfcddfb5e9831dcbecc1161b5ae"
   },
   "source": [
    "**Constraints which Step is repeat**"
   ]
  },
  {
   "cell_type": "code",
   "execution_count": 4,
   "metadata": {
    "_kg_hide-input": false,
    "_uuid": "f02b432d882ddb6f546afeac47765dc9c12dd8c6"
   },
   "outputs": [],
   "source": [
    "def find_repeat(udo,temp):\n",
    "    result=0\n",
    "    for pre, fill, node in RenderTree(udo):\n",
    "        if ((node.name[\"goat\"] == temp[\"goat\"]) and (node.name[\"lion\"] == temp[\"lion\"])  and (node.name[\"grass\"] == temp[\"grass\"])  and (node.name[\"man\"] == temp[\"man\"])  and (node.name[\"state\"] == temp[\"state\"])):\n",
    "            result=1\n",
    "    \n",
    "    if result==1:\n",
    "        temp[\"state\"]=\"repeat\"\n",
    "        print(\"repeat\")\n",
    "    return temp\n",
    "    \n",
    "            "
   ]
  },
  {
   "cell_type": "markdown",
   "metadata": {
    "_uuid": "e044dc05fdc0c6662c099dc4508820e23c205c63"
   },
   "source": [
    "**Main**"
   ]
  },
  {
   "cell_type": "markdown",
   "metadata": {
    "_uuid": "ebf04dc0b07770200db4864f775fe497b51a06cb"
   },
   "source": [
    "**Breadth First Search**"
   ]
  },
  {
   "cell_type": "code",
   "execution_count": 5,
   "metadata": {
    "_uuid": "00d7a52103fceae867374f84d37b143be5c4d74c"
   },
   "outputs": [
    {
     "name": "stdout",
     "output_type": "stream",
     "text": [
      "repeat\n",
      "repeat\n",
      "repeat\n",
      "repeat\n",
      "repeat\n",
      "repeat\n",
      "repeat\n",
      "repeat\n",
      "repeat\n",
      "repeat\n",
      "{'man': False, 'goat': False, 'lion': False, 'grass': False, 'state': True}\n",
      "├── {'man': True, 'goat': False, 'lion': False, 'grass': False, 'state': False}\n",
      "├── {'man': True, 'goat': False, 'lion': True, 'grass': False, 'state': False}\n",
      "├── {'man': True, 'goat': True, 'lion': False, 'grass': False, 'state': True}\n",
      "│   ├── {'man': False, 'goat': True, 'lion': False, 'grass': False, 'state': True}\n",
      "│   │   ├── {'man': True, 'goat': True, 'lion': False, 'grass': False, 'state': 'repeat'}\n",
      "│   │   ├── {'man': True, 'goat': True, 'lion': True, 'grass': False, 'state': True}\n",
      "│   │   │   ├── {'man': False, 'goat': True, 'lion': True, 'grass': False, 'state': False}\n",
      "│   │   │   ├── {'man': False, 'goat': True, 'lion': False, 'grass': False, 'state': 'repeat'}\n",
      "│   │   │   └── {'man': False, 'goat': False, 'lion': True, 'grass': False, 'state': True}\n",
      "│   │   │       ├── {'man': True, 'goat': False, 'lion': True, 'grass': False, 'state': False}\n",
      "│   │   │       ├── {'man': True, 'goat': True, 'lion': True, 'grass': False, 'state': 'repeat'}\n",
      "│   │   │       └── {'man': True, 'goat': False, 'lion': True, 'grass': True, 'state': True}\n",
      "│   │   │           ├── {'man': False, 'goat': False, 'lion': True, 'grass': True, 'state': True}\n",
      "│   │   │           │   ├── {'man': True, 'goat': False, 'lion': True, 'grass': True, 'state': 'repeat'}\n",
      "│   │   │           │   └── {'man': True, 'goat': True, 'lion': True, 'grass': True, 'state': 'Goal'}\n",
      "│   │   │           ├── {'man': False, 'goat': False, 'lion': False, 'grass': True, 'state': 'repeat'}\n",
      "│   │   │           └── {'man': False, 'goat': False, 'lion': True, 'grass': False, 'state': 'repeat'}\n",
      "│   │   └── {'man': True, 'goat': True, 'lion': False, 'grass': True, 'state': True}\n",
      "│   │       ├── {'man': False, 'goat': True, 'lion': False, 'grass': True, 'state': False}\n",
      "│   │       ├── {'man': False, 'goat': False, 'lion': False, 'grass': True, 'state': True}\n",
      "│   │       │   ├── {'man': True, 'goat': False, 'lion': False, 'grass': True, 'state': False}\n",
      "│   │       │   ├── {'man': True, 'goat': False, 'lion': True, 'grass': True, 'state': 'repeat'}\n",
      "│   │       │   └── {'man': True, 'goat': True, 'lion': False, 'grass': True, 'state': 'repeat'}\n",
      "│   │       └── {'man': False, 'goat': True, 'lion': False, 'grass': False, 'state': 'repeat'}\n",
      "│   └── {'man': False, 'goat': False, 'lion': False, 'grass': False, 'state': 'repeat'}\n",
      "└── {'man': True, 'goat': False, 'lion': False, 'grass': True, 'state': False}\n",
      "Time Taken 0.0061435699462890625\n"
     ]
    }
   ],
   "source": [
    "import time\n",
    "start = time. time()\n",
    "Start_point={\n",
    "            \"man\":False,\n",
    "           \"goat\":False,\n",
    "           \"lion\":False,\n",
    "           \"grass\":False,\n",
    "            \"state\":True\n",
    "          }\n",
    "\n",
    "q = Queue(maxsize=0)\n",
    "udo = Node(Start_point)\n",
    "\n",
    "q.put(udo)\n",
    "while(True):\n",
    "    \n",
    "    Parent=q.get()\n",
    "    if((Parent.name[\"lion\"]==True and Parent.name[\"goat\"]==True and Parent.name[\"grass\"]==True and Parent.name[\"man\"]==True )):\n",
    "        break\n",
    "    \n",
    "    \n",
    "    temp=moveMan(Parent)\n",
    "    if temp != None:\n",
    "        temp=find_repeat(udo,temp)\n",
    "        constraints(temp)\n",
    "        child1=Node(temp,parent=Parent)\n",
    "        \n",
    "        if temp[\"state\"]==True:\n",
    "            q.put(child1)\n",
    "\n",
    "\n",
    "    temp=moveLion(Parent)\n",
    "    if temp != None:\n",
    "        temp=find_repeat(udo,temp)\n",
    "        constraints(temp)\n",
    "        child2=Node(temp,parent=Parent)\n",
    "        if temp[\"state\"]==True:\n",
    "            q.put(child2)\n",
    "\n",
    "\n",
    "    temp=moveGoat(Parent)\n",
    "    if temp != None:\n",
    "        temp=find_repeat(udo,temp)\n",
    "        constraints(temp)\n",
    "        child3=Node(temp,parent=Parent)\n",
    "        if temp[\"state\"]==True:\n",
    "            q.put(child3)\n",
    "\n",
    "\n",
    "    temp=moveGrass(Parent)\n",
    "    if temp != None:\n",
    "        temp=find_repeat(udo,temp)\n",
    "        constraints(temp)\n",
    "        child4=Node(temp,parent=Parent)\n",
    "        if temp[\"state\"]==True:\n",
    "            q.put( child4)\n",
    "    \n",
    "    \n",
    "    if q.empty()==1:\n",
    "        break\n",
    "    \n",
    "\n",
    "for pre, fill, node in RenderTree(udo):\n",
    "       print(\"%s%s\" % (pre, node.name))     \n",
    "        \n",
    "end = time. time()\n",
    "print(\"Time Taken\",end - start)\n"
   ]
  },
  {
   "cell_type": "markdown",
   "metadata": {
    "_uuid": "3de36eefea610d589f02dce60fa40135cb5c710a"
   },
   "source": [
    "**Goal state in the tree is the final point where are the objects are True and state == Goal** "
   ]
  },
  {
   "cell_type": "markdown",
   "metadata": {
    "_uuid": "2785ff7c5eb9cc53d69483824e11f0619e457cae"
   },
   "source": [
    "**Depth First Search**"
   ]
  },
  {
   "cell_type": "code",
   "execution_count": 6,
   "metadata": {
    "_uuid": "b2e2e1073f7469af5b70aab9fdfebb4560f3824b"
   },
   "outputs": [
    {
     "name": "stdout",
     "output_type": "stream",
     "text": [
      "repeat\n",
      "repeat\n",
      "repeat\n",
      "repeat\n",
      "repeat\n",
      "repeat\n",
      "repeat\n",
      "repeat\n",
      "repeat\n",
      "repeat\n",
      "{'man': False, 'goat': False, 'lion': False, 'grass': False, 'state': True}\n",
      "├── {'man': True, 'goat': False, 'lion': False, 'grass': False, 'state': False}\n",
      "├── {'man': True, 'goat': False, 'lion': True, 'grass': False, 'state': False}\n",
      "├── {'man': True, 'goat': True, 'lion': False, 'grass': False, 'state': True}\n",
      "│   ├── {'man': False, 'goat': True, 'lion': False, 'grass': False, 'state': True}\n",
      "│   │   ├── {'man': True, 'goat': True, 'lion': False, 'grass': False, 'state': 'repeat'}\n",
      "│   │   ├── {'man': True, 'goat': True, 'lion': True, 'grass': False, 'state': True}\n",
      "│   │   │   ├── {'man': False, 'goat': True, 'lion': True, 'grass': False, 'state': False}\n",
      "│   │   │   ├── {'man': False, 'goat': True, 'lion': False, 'grass': False, 'state': 'repeat'}\n",
      "│   │   │   └── {'man': False, 'goat': False, 'lion': True, 'grass': False, 'state': 'repeat'}\n",
      "│   │   └── {'man': True, 'goat': True, 'lion': False, 'grass': True, 'state': True}\n",
      "│   │       ├── {'man': False, 'goat': True, 'lion': False, 'grass': True, 'state': False}\n",
      "│   │       ├── {'man': False, 'goat': False, 'lion': False, 'grass': True, 'state': True}\n",
      "│   │       │   ├── {'man': True, 'goat': False, 'lion': False, 'grass': True, 'state': False}\n",
      "│   │       │   ├── {'man': True, 'goat': False, 'lion': True, 'grass': True, 'state': True}\n",
      "│   │       │   │   ├── {'man': False, 'goat': False, 'lion': True, 'grass': True, 'state': True}\n",
      "│   │       │   │   │   ├── {'man': True, 'goat': False, 'lion': True, 'grass': True, 'state': 'repeat'}\n",
      "│   │       │   │   │   └── {'man': True, 'goat': True, 'lion': True, 'grass': True, 'state': 'Goal'}\n",
      "│   │       │   │   ├── {'man': False, 'goat': False, 'lion': False, 'grass': True, 'state': 'repeat'}\n",
      "│   │       │   │   └── {'man': False, 'goat': False, 'lion': True, 'grass': False, 'state': True}\n",
      "│   │       │   │       ├── {'man': True, 'goat': False, 'lion': True, 'grass': False, 'state': False}\n",
      "│   │       │   │       ├── {'man': True, 'goat': True, 'lion': True, 'grass': False, 'state': 'repeat'}\n",
      "│   │       │   │       └── {'man': True, 'goat': False, 'lion': True, 'grass': True, 'state': 'repeat'}\n",
      "│   │       │   └── {'man': True, 'goat': True, 'lion': False, 'grass': True, 'state': 'repeat'}\n",
      "│   │       └── {'man': False, 'goat': True, 'lion': False, 'grass': False, 'state': 'repeat'}\n",
      "│   └── {'man': False, 'goat': False, 'lion': False, 'grass': False, 'state': 'repeat'}\n",
      "└── {'man': True, 'goat': False, 'lion': False, 'grass': True, 'state': False}\n",
      "Time Taken 0.0048525333404541016\n"
     ]
    }
   ],
   "source": [
    "import time\n",
    "start = time. time()\n",
    "Start_point={\n",
    "            \"man\":False,\n",
    "           \"goat\":False,\n",
    "           \"lion\":False,\n",
    "           \"grass\":False,\n",
    "            \"state\":True\n",
    "          }\n",
    "\n",
    "q = LifoQueue()\n",
    "udo = Node(Start_point)\n",
    "\n",
    "q.put(udo)\n",
    "while(True):\n",
    "    \n",
    "    Parent=q.get()\n",
    "    if((Parent.name[\"lion\"]==True and Parent.name[\"goat\"]==True and Parent.name[\"grass\"]==True and Parent.name[\"man\"]==True )):\n",
    "        break\n",
    "    \n",
    "    \n",
    "    temp=moveMan(Parent)\n",
    "    if temp != None:\n",
    "        temp=find_repeat(udo,temp)\n",
    "        constraints(temp)\n",
    "        child1=Node(temp,parent=Parent)\n",
    "        \n",
    "        if temp[\"state\"]==True:\n",
    "            q.put(child1)\n",
    "\n",
    "\n",
    "    temp=moveLion(Parent)\n",
    "    if temp != None:\n",
    "        temp=find_repeat(udo,temp)\n",
    "        constraints(temp)\n",
    "        child2=Node(temp,parent=Parent)\n",
    "        if temp[\"state\"]==True:\n",
    "            q.put(child2)\n",
    "\n",
    "\n",
    "    temp=moveGoat(Parent)\n",
    "    if temp != None:\n",
    "        temp=find_repeat(udo,temp)\n",
    "        constraints(temp)\n",
    "        child3=Node(temp,parent=Parent)\n",
    "        if temp[\"state\"]==True:\n",
    "            q.put(child3)\n",
    "\n",
    "\n",
    "    temp=moveGrass(Parent)\n",
    "    if temp != None:\n",
    "        temp=find_repeat(udo,temp)\n",
    "        constraints(temp)\n",
    "        child4=Node(temp,parent=Parent)\n",
    "        if temp[\"state\"]==True:\n",
    "            q.put( child4)\n",
    "    \n",
    "    \n",
    "    if q.empty()==1:\n",
    "        break\n",
    "    \n",
    "\n",
    "for pre, fill, node in RenderTree(udo):\n",
    "       print(\"%s%s\" % (pre, node.name))     \n",
    "        \n",
    "end = time. time()\n",
    "print(\"Time Taken\",end - start)\n"
   ]
  },
  {
   "cell_type": "code",
   "execution_count": 7,
   "metadata": {
    "_uuid": "059c6fbaf62cc2948b03e618a1896f9cd58dbc00"
   },
   "outputs": [],
   "source": []
  }
 ],
 "metadata": {
  "kernelspec": {
   "display_name": "Python 3",
   "language": "python",
   "name": "python3"
  },
  "language_info": {
   "codemirror_mode": {
    "name": "ipython",
    "version": 3
   },
   "file_extension": ".py",
   "mimetype": "text/x-python",
   "name": "python",
   "nbconvert_exporter": "python",
   "pygments_lexer": "ipython3",
   "version": "3.6.6"
  }
 },
 "nbformat": 4,
 "nbformat_minor": 1
}
